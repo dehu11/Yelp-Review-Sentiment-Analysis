{
 "cells": [
  {
   "cell_type": "markdown",
   "metadata": {
    "collapsed": true
   },
   "source": [
    "# Logistic Regression"
   ]
  },
  {
   "cell_type": "markdown",
   "metadata": {
    "scrolled": true
   },
   "source": [
    "import pandas as pd\n",
    "import numpy as np\n",
    "import itertools\n",
    "import matplotlib.pyplot as plt\n",
    "from sklearn import datasets, linear_model, pipeline\n",
    "from sklearn.feature_extraction.text import CountVectorizer, TfidfTransformer\n",
    "from sklearn.metrics import confusion_matrix\n",
    "\n"
   ]
  },
  {
   "cell_type": "markdown",
   "metadata": {},
   "source": [
    "## Set up Classifier\n",
    "\n",
    "### Load test data"
   ]
  },
  {
   "cell_type": "code",
   "execution_count": null,
   "metadata": {
    "collapsed": true
   },
   "outputs": [],
   "source": [
    "#load test data.\n",
    "csv_file = 'yelp_labelled.txt'\n",
    "\n",
    "#use pandas csv in order to organize our data more easily. \n",
    "#here we split into reviews and ratings, which are either 0(negative) or 1(positive)\n",
    "data = pd.read_csv(csv_file, sep = '\\t', names = ['Reviews', 'Rating'], header = None)\n",
    "\n",
    "#load up our logistic regression model and tfidf transformer taken from scikit learn's linear_model tools\n",
    "#we set C, the inverse regularization strength, 10 instead of the default 1. \n",
    "logistic = linear_model.LogisticRegression(C = 10)\n",
    "tfidf_transformer = TfidfTransformer()"
   ]
  },
  {
   "cell_type": "code",
   "execution_count": 2,
   "metadata": {},
   "outputs": [
    {
     "data": {
      "text/html": [
       "<div>\n",
       "<table border=\"1\" class=\"dataframe\">\n",
       "  <thead>\n",
       "    <tr style=\"text-align: right;\">\n",
       "      <th></th>\n",
       "      <th>Reviews</th>\n",
       "      <th>Rating</th>\n",
       "    </tr>\n",
       "  </thead>\n",
       "  <tbody>\n",
       "    <tr>\n",
       "      <th>0</th>\n",
       "      <td>Wow... Loved this place.</td>\n",
       "      <td>1</td>\n",
       "    </tr>\n",
       "    <tr>\n",
       "      <th>1</th>\n",
       "      <td>Crust is not good.</td>\n",
       "      <td>0</td>\n",
       "    </tr>\n",
       "    <tr>\n",
       "      <th>2</th>\n",
       "      <td>Not tasty and the texture was just nasty.</td>\n",
       "      <td>0</td>\n",
       "    </tr>\n",
       "    <tr>\n",
       "      <th>3</th>\n",
       "      <td>Stopped by during the late May bank holiday of...</td>\n",
       "      <td>1</td>\n",
       "    </tr>\n",
       "    <tr>\n",
       "      <th>4</th>\n",
       "      <td>The selection on the menu was great and so wer...</td>\n",
       "      <td>1</td>\n",
       "    </tr>\n",
       "  </tbody>\n",
       "</table>\n",
       "</div>"
      ],
      "text/plain": [
       "                                             Reviews  Rating\n",
       "0                           Wow... Loved this place.       1\n",
       "1                                 Crust is not good.       0\n",
       "2          Not tasty and the texture was just nasty.       0\n",
       "3  Stopped by during the late May bank holiday of...       1\n",
       "4  The selection on the menu was great and so wer...       1"
      ]
     },
     "execution_count": 2,
     "metadata": {},
     "output_type": "execute_result"
    }
   ],
   "source": [
    "#test to see that the reviews and ratings are split correctly. \n",
    "data.head()"
   ]
  },
  {
   "cell_type": "markdown",
   "metadata": {},
   "source": [
    "### Split data into ratings and review sets and Vectorize reviews"
   ]
  },
  {
   "cell_type": "code",
   "execution_count": 3,
   "metadata": {
    "collapsed": true
   },
   "outputs": [],
   "source": [
    "#Split data into ratings and review data sets\n",
    "ratings = data['Rating']\n",
    "reviews = data['Reviews']\n"
   ]
  },
  {
   "cell_type": "code",
   "execution_count": 4,
   "metadata": {},
   "outputs": [
    {
     "data": {
      "text/plain": [
       "(500, 1363)"
      ]
     },
     "execution_count": 4,
     "metadata": {},
     "output_type": "execute_result"
    }
   ],
   "source": [
    "#CountVectorizer is another sklearn tool\n",
    "#  that allows us to transform our documents into feature vectors. \n",
    "#  features vectors \n",
    "count_vect = CountVectorizer()\n",
    "\n",
    "x_train_counts = count_vect.fit_transform(reviews[0:][::2])\n",
    "x_test_counts = count_vect.transform(reviews[1:][::2])\n",
    "x_train_counts.shape\n",
    "x_test_counts.shape\n"
   ]
  },
  {
   "cell_type": "markdown",
   "metadata": {},
   "source": [
    "### Transform and Fit to model"
   ]
  },
  {
   "cell_type": "code",
   "execution_count": 5,
   "metadata": {
    "scrolled": true
   },
   "outputs": [
    {
     "data": {
      "text/plain": [
       "LogisticRegression(C=10, class_weight=None, dual=False, fit_intercept=True,\n",
       "          intercept_scaling=1, max_iter=100, multi_class='ovr', n_jobs=1,\n",
       "          penalty='l2', random_state=None, solver='liblinear', tol=0.0001,\n",
       "          verbose=0, warm_start=False)"
      ]
     },
     "execution_count": 5,
     "metadata": {},
     "output_type": "execute_result"
    }
   ],
   "source": [
    "#Use tf-idf weighting for training set.\n",
    "#fit for the logisticregression model and for the data. \n",
    "X_train_tfidf = tfidf_transformer.fit_transform(x_train_counts)\n",
    "logistic.fit(X_train_tfidf, ratings[0:][::2]) #ratings[:500])\n"
   ]
  },
  {
   "cell_type": "markdown",
   "metadata": {},
   "source": [
    "### Compute Accuracy"
   ]
  },
  {
   "cell_type": "code",
   "execution_count": 6,
   "metadata": {},
   "outputs": [
    {
     "data": {
      "text/plain": [
       "0.80200000000000005"
      ]
     },
     "execution_count": 6,
     "metadata": {},
     "output_type": "execute_result"
    }
   ],
   "source": [
    "#Take unused(test) data and transform using tfidf again.\n",
    "#However this time we only use transform instead of fit transform\n",
    "#  since we have already fit to the training set. \n",
    "X_test_tfidf = tfidf_transformer.transform(x_test_counts)\n",
    "\n",
    "#Predict using the LogisticRegression predict feature. \n",
    "predicted = logistic.predict(X_test_tfidf)\n",
    "\n",
    "#test accuracy of the predicted vs actual ratings. \n",
    "np.mean(predicted == ratings[1:][::2])"
   ]
  },
  {
   "cell_type": "code",
   "execution_count": 7,
   "metadata": {},
   "outputs": [
    {
     "data": {
      "text/plain": [
       "0.80200000000000005"
      ]
     },
     "execution_count": 7,
     "metadata": {},
     "output_type": "execute_result"
    }
   ],
   "source": [
    "#sklearning provides a pipeline class which streamlines the tokenization and transform steps shown above. \n",
    "clfpipe = pipeline.Pipeline([('vect', CountVectorizer()),\n",
    "                     ('tfidf', TfidfTransformer()),\n",
    "                     ('clf', logistic)])\n",
    "\n",
    "clfpipe.fit(reviews[0:][::2], ratings[0:][::2])\n",
    "predicted = clfpipe.predict(reviews[1:][::2])\n",
    "np.mean(predicted == ratings[1:][::2])\n"
   ]
  },
  {
   "cell_type": "markdown",
   "metadata": {},
   "source": [
    "### K-fold Cross Validation"
   ]
  },
  {
   "cell_type": "code",
   "execution_count": 8,
   "metadata": {},
   "outputs": [
    {
     "name": "stdout",
     "output_type": "stream",
     "text": [
      "Accuracy: 82.9%\n"
     ]
    }
   ],
   "source": [
    "#k-fold cross validation test. K = 50 \n",
    "k = 50\n",
    "foldsize = reviews.size/k\n",
    "frev = []\n",
    "frat = []\n",
    "checkstart = 0\n",
    "checkend = foldsize\n",
    "accuracies = []\n",
    "\n",
    "for i in range(k):\n",
    "    frev.append((reviews[checkstart:checkend]))\n",
    "    frat.append((ratings[checkstart:checkend]))\n",
    "    checkstart+=foldsize\n",
    "    checkend+=foldsize\n",
    "\n",
    "for i in range(k):\n",
    "    temprev = []\n",
    "    temprat = []\n",
    "    for j in range(k):\n",
    "        if j != i:\n",
    "            temprev.extend(frev[j])\n",
    "            temprat.extend(frat[j])\n",
    "            \n",
    "    clfpipe.fit(temprev, temprat)\n",
    "    kfpredicted = clfpipe.predict(frev[i])\n",
    "    accuracies.append(np.mean(kfpredicted == frat[i]))\n",
    "\n",
    "kfresult = sum(accuracies)/len(accuracies)\n",
    "print('Accuracy: ' + str(kfresult*100) + '%' )\n"
   ]
  },
  {
   "cell_type": "markdown",
   "metadata": {},
   "source": [
    "### Make train/test sets"
   ]
  },
  {
   "cell_type": "code",
   "execution_count": 9,
   "metadata": {},
   "outputs": [],
   "source": [
    "#Make train/test sets\n",
    "train_data = reviews[0:][::2]\n",
    "train_rate = ratings[0:][::2]\n",
    "test_data = reviews[1:][::2]\n",
    "test_rate = ratings[1:][::2]\n",
    "\n",
    "test_reviews = test_data.values\n",
    "test_scores = test_rate.values\n"
   ]
  },
  {
   "cell_type": "code",
   "execution_count": 10,
   "metadata": {},
   "outputs": [],
   "source": [
    "probs = clfpipe.predict_proba(reviews[1:][::2])"
   ]
  },
  {
   "cell_type": "markdown",
   "metadata": {},
   "source": [
    "## Visualizations\n",
    "### Probability Distributions of Test Data"
   ]
  },
  {
   "cell_type": "code",
   "execution_count": 1,
   "metadata": {},
   "outputs": [
    {
     "ename": "NameError",
     "evalue": "name 'test_reviews' is not defined",
     "output_type": "error",
     "traceback": [
      "\u001b[0;31m---------------------------------------------------------------------------\u001b[0m",
      "\u001b[0;31mNameError\u001b[0m                                 Traceback (most recent call last)",
      "\u001b[0;32m<ipython-input-1-a09d547e37c5>\u001b[0m in \u001b[0;36m<module>\u001b[0;34m()\u001b[0m\n\u001b[1;32m      2\u001b[0m \u001b[0;32mfor\u001b[0m \u001b[0mi\u001b[0m \u001b[0;32min\u001b[0m \u001b[0mrange\u001b[0m\u001b[0;34m(\u001b[0m\u001b[0;36m10\u001b[0m\u001b[0;34m)\u001b[0m\u001b[0;34m:\u001b[0m\u001b[0;34m\u001b[0m\u001b[0m\n\u001b[1;32m      3\u001b[0m     print('{}\\n\\t Positive: {}%; Negative: {}%\\n'.\n\u001b[0;32m----> 4\u001b[0;31m           format(test_reviews[i], round(probs[i][1]*100, 2), round(probs[i][0]*100, 2)))\n\u001b[0m",
      "\u001b[0;31mNameError\u001b[0m: name 'test_reviews' is not defined"
     ]
    }
   ],
   "source": [
    "# Show examples of probability distribution\n",
    "for i in range(10):\n",
    "    print('{}\\n\\t Positive: {}%; Negative: {}%\\n'.\n",
    "          format(test_reviews[i], round(probs[i][1]*100, 2), round(probs[i][0]*100, 2)))"
   ]
  },
  {
   "cell_type": "markdown",
   "metadata": {},
   "source": [
    "### Actual vs Classified Sentiment Distributions"
   ]
  },
  {
   "cell_type": "code",
   "execution_count": 12,
   "metadata": {},
   "outputs": [
    {
     "data": {
      "image/png": "[encoded data removed]",
      "text/plain": [
       "<matplotlib.figure.Figure at 0x7f5b4d8bb2d0>"
      ]
     },
     "metadata": {},
     "output_type": "display_data"
    },
    {
     "data": {
      "image/png": "[encoded data removed]",
      "text/plain": [
       "<matplotlib.figure.Figure at 0x7f5b84179450>"
      ]
     },
     "metadata": {},
     "output_type": "display_data"
    }
   ],
   "source": [
    "# Split test data by positive and negative sentiments\n",
    "pos1, neg1, pos2, neg2 = 0, 0, 0, 0\n",
    "\n",
    "for c in range(len(test_scores)):\n",
    "    if test_scores[c] == 1:\n",
    "        pos1 += 1\n",
    "    else:\n",
    "        neg1 += 1\n",
    "    if predicted[c] == 1:\n",
    "        pos2 += 1\n",
    "    else:\n",
    "        neg2 += 1\n",
    "\n",
    "# Plot distribution of actual ratings vs distribution of classified ratings\n",
    "plt.bar([1, 2], [neg1, pos1], align = 'center', color=['red', 'blue'], alpha = 0.5)\n",
    "plt.xticks([1, 2], ['negative', 'positive'])\n",
    "plt.xlabel('Rating')\n",
    "plt.ylabel('Count')\n",
    "plt.title('Distribution of Actual Ratings')\n",
    "\n",
    "plt.show()\n",
    "\n",
    "plt.bar([1, 2], [neg2, pos2], align = 'center', color=['red', 'blue'], alpha = 0.5)\n",
    "plt.xticks([1, 2], ['neg', 'pos'])\n",
    "plt.xlabel('Rating')\n",
    "plt.ylabel('Count')\n",
    "plt.title('Distribution of Classified Ratings')\n",
    "\n",
    "plt.show()"
   ]
  },
  {
   "cell_type": "markdown",
   "metadata": {},
   "source": [
    "### Test Data Confusion Matrix"
   ]
  },
  {
   "cell_type": "code",
   "execution_count": 13,
   "metadata": {},
   "outputs": [
    {
     "name": "stdout",
     "output_type": "stream",
     "text": [
      "Normalized confusion matrix\n",
      "[[ 0.82  0.18]\n",
      " [ 0.22  0.78]]\n"
     ]
    },
    {
     "data": {
      "image/png": "[encoded data removed]",
      "text/plain": [
       "<matplotlib.figure.Figure at 0x7f5b4dc23d10>"
      ]
     },
     "metadata": {},
     "output_type": "display_data"
    }
   ],
   "source": [
    "class_names = [0,1]\n",
    "\n",
    "def plot_confusion_matrix(cm, classes,\n",
    "                          normalize=True,\n",
    "                          title='Confusion matrix',\n",
    "                          cmap=plt.cm.Reds):\n",
    "    \"\"\"\n",
    "    This function prints and plots the confusion matrix.\n",
    "    Normalization can be applied by setting `normalize=True`.\n",
    "    \"\"\"\n",
    "    plt.imshow(cm, interpolation='nearest', cmap=cmap)\n",
    "    plt.title(title)\n",
    "    plt.colorbar()\n",
    "    tick_marks = np.arange(len(classes))\n",
    "    plt.xticks(tick_marks, classes, rotation=45)\n",
    "    plt.yticks(tick_marks, classes)\n",
    "\n",
    "    if normalize:\n",
    "        cm = cm.astype('float') / cm.sum(axis=1)[:, np.newaxis]\n",
    "        print(\"Normalized confusion matrix\")\n",
    "    else:\n",
    "        print('Confusion matrix, without normalization')\n",
    "\n",
    "    print(cm)\n",
    "\n",
    "    thresh = cm.max() / 2.\n",
    "    for i, j in itertools.product(range(cm.shape[0]), range(cm.shape[1])):\n",
    "        plt.text(j, i, cm[i, j],\n",
    "                 horizontalalignment=\"center\",\n",
    "                 color=\"white\" if cm[i, j] > thresh else \"black\")\n",
    "\n",
    "    plt.tight_layout()\n",
    "    plt.ylabel('True rating')\n",
    "    plt.xlabel('Predicted rating')\n",
    "\n",
    "# Compute confusion matrix\n",
    "cnf_matrix = confusion_matrix(ratings[1:][::2], predicted)\n",
    "np.set_printoptions(precision=2)\n",
    "\n",
    "# Plot non-normalized confusion matrix\n",
    "plt.figure()\n",
    "plot_confusion_matrix(cnf_matrix, classes=class_names,\n",
    "                      title='Logistic Regression: Confusion matrix')\n",
    "\n",
    "\n",
    "plt.show()"
   ]
  }
 ],
 "metadata": {
  "kernelspec": {
   "display_name": "Python 2",
   "language": "python",
   "name": "python2"
  },
  "language_info": {
   "codemirror_mode": {
    "name": "ipython",
    "version": 2
   },
   "file_extension": ".py",
   "mimetype": "text/x-python",
   "name": "python",
   "nbconvert_exporter": "python",
   "pygments_lexer": "ipython2",
   "version": "2.7.12"
  }
 },
 "nbformat": 4,
 "nbformat_minor": 2
}
